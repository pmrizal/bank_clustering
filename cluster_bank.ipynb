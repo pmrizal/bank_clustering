{
 "cells": [
  {
   "cell_type": "code",
   "execution_count": null,
   "id": "2cbb806c",
   "metadata": {},
   "outputs": [],
   "source": [
    "import pandas as pd\n",
    "import numpy as np\n",
    "import matplotlib.pyplot as plt\n",
    "import seaborn as sns\n",
    "from sklearn.preprocessing import StandardScaler\n",
    "from sklearn.cluster import KMeans\n",
    "df = pd.read_csv(\"test_bank.csv\")\n",
    "df.info()"
   ]
  },
  {
   "cell_type": "code",
   "execution_count": null,
   "id": "734675ef",
   "metadata": {},
   "outputs": [],
   "source": [
    "#cek duplikasi data\n",
    "df.duplicated().any()"
   ]
  },
  {
   "cell_type": "code",
   "execution_count": null,
   "id": "96af8deb",
   "metadata": {},
   "outputs": [],
   "source": [
    "#cek missing value\n",
    "df.isna().sum()"
   ]
  },
  {
   "cell_type": "code",
   "execution_count": null,
   "id": "c31d1156",
   "metadata": {},
   "outputs": [],
   "source": [
    "dfn = df[['id','umur','gender_desc','marital_desc','pekerjaan_desc','income_desc','education_desc','kewarganegaraan_desc','bulan_tenure','cabang','dana_flag','pinjaman_flag','pinjaman_0_5','pinjaman_5_10','pinjaman_10_15','pinjaman_10_50','pinjaman_500_1000','pinjaman_more_1000','avg_saldo_eom']]"
   ]
  },
  {
   "cell_type": "code",
   "execution_count": null,
   "id": "2235b783",
   "metadata": {},
   "outputs": [],
   "source": [
    "dfn"
   ]
  },
  {
   "cell_type": "code",
   "execution_count": null,
   "id": "8a76ab9c",
   "metadata": {},
   "outputs": [],
   "source": [
    "#cek missing value\n",
    "dfn.isna().sum()"
   ]
  },
  {
   "cell_type": "code",
   "execution_count": null,
   "id": "5f8be6de",
   "metadata": {},
   "outputs": [],
   "source": [
    "# Calculate the correlation matrix\n",
    "correlation_matrix = dfn.corr()\n",
    "\n",
    "# Print the correlation matrix\n",
    "print(correlation_matrix)"
   ]
  },
  {
   "cell_type": "code",
   "execution_count": null,
   "id": "7a9726a4",
   "metadata": {},
   "outputs": [],
   "source": [
    "numerical_columns = ['umur', 'bulan_tenure', 'avg_saldo_eom']\n",
    "categorical_columns = ['gender_desc','marital_desc','pekerjaan_desc','income_desc','education_desc','kewarganegaraan_desc','cabang']"
   ]
  },
  {
   "cell_type": "code",
   "execution_count": null,
   "id": "7ced86ba",
   "metadata": {},
   "outputs": [],
   "source": [
    "df3 = dfn[numerical_columns]"
   ]
  },
  {
   "cell_type": "code",
   "execution_count": null,
   "id": "68511ab5",
   "metadata": {},
   "outputs": [],
   "source": [
    "sc = StandardScaler()\n",
    "df4 = sc.fit_transform(df3)"
   ]
  },
  {
   "cell_type": "code",
   "execution_count": null,
   "id": "efe91a11",
   "metadata": {},
   "outputs": [],
   "source": [
    "df4 = pd.DataFrame(df4, columns = numerical_columns)\n",
    "df4.head()"
   ]
  },
  {
   "cell_type": "code",
   "execution_count": null,
   "id": "d314faed",
   "metadata": {},
   "outputs": [],
   "source": [
    "encoded_data = pd.get_dummies(dfn[categorical_columns])"
   ]
  },
  {
   "cell_type": "code",
   "execution_count": null,
   "id": "6d24ccfc",
   "metadata": {},
   "outputs": [],
   "source": [
    "encoded_data"
   ]
  },
  {
   "cell_type": "code",
   "execution_count": null,
   "id": "17504419",
   "metadata": {},
   "outputs": [],
   "source": [
    "combined_data = pd.concat([df4[numerical_columns], encoded_data], axis=1)"
   ]
  },
  {
   "cell_type": "code",
   "execution_count": null,
   "id": "26e50e2d",
   "metadata": {},
   "outputs": [],
   "source": [
    "combined_data.info()"
   ]
  },
  {
   "cell_type": "code",
   "execution_count": null,
   "id": "a65e21bd",
   "metadata": {},
   "outputs": [],
   "source": [
    "#elbow method clustering pertama\n",
    "wcss = []\n",
    "for i in range(1,11):\n",
    "    kmeans = KMeans(n_clusters=i, init=\"k-means++\", random_state = 42)\n",
    "    kmeans.fit(combined_data)\n",
    "    wcss.append(kmeans.inertia_)\n",
    "plt.plot(range(1,11), wcss)\n",
    "plt.title(\"The Elbow Method\")\n",
    "plt.xlabel(\"Number of Clusters\")\n",
    "plt.ylabel(\"WCSS\")\n",
    "plt.grid(True)\n",
    "plt.show()"
   ]
  },
  {
   "cell_type": "code",
   "execution_count": null,
   "id": "5379fbd2",
   "metadata": {},
   "outputs": [],
   "source": [
    "import pandas as pd\n",
    "from sklearn.cluster import KMeans\n",
    "from sklearn.metrics import silhouette_score, davies_bouldin_score\n"
   ]
  },
  {
   "cell_type": "code",
   "execution_count": null,
   "id": "8ec08925",
   "metadata": {},
   "outputs": [],
   "source": [
    "k = 3 # Number of clusters\n",
    "kmeans = KMeans(n_clusters=k, random_state=42)\n",
    "kmeans.fit(combined_data)"
   ]
  },
  {
   "cell_type": "code",
   "execution_count": null,
   "id": "442386ed",
   "metadata": {},
   "outputs": [],
   "source": [
    "silhouette_avg = silhouette_score(combined_data, kmeans.labels_)\n",
    "davies_bouldin_score_value = davies_bouldin_score(combined_data, kmeans.labels_)"
   ]
  },
  {
   "cell_type": "code",
   "execution_count": null,
   "id": "8bed9e0e",
   "metadata": {},
   "outputs": [],
   "source": [
    "davies_bouldin_score_value"
   ]
  },
  {
   "cell_type": "code",
   "execution_count": null,
   "id": "5346ad1b",
   "metadata": {},
   "outputs": [],
   "source": [
    "#cluster k = 3\n",
    "kmean = KMeans(n_clusters = 3, random_state = 42)\n",
    "kmean.fit(combined_data)\n",
    "dfkmean = combined_data\n",
    "label  = pd.DataFrame(kmean.labels_, columns= ['cluster_id'])\n",
    "label.head()\n",
    "dfkmean = pd.concat([dfkmean,label], axis = 1)\n",
    "dfkmean.head()"
   ]
  },
  {
   "cell_type": "code",
   "execution_count": null,
   "id": "feae4c67",
   "metadata": {},
   "outputs": [],
   "source": [
    "dfkmean.to_csv('test_cluster.csv', index = False)"
   ]
  },
  {
   "cell_type": "code",
   "execution_count": null,
   "id": "4eaa694f",
   "metadata": {},
   "outputs": [],
   "source": [
    "country = dfn['id']\n",
    "clust = pd.concat([country,label], axis = 1)\n",
    "clust.head()"
   ]
  },
  {
   "cell_type": "code",
   "execution_count": null,
   "id": "9662c5c2",
   "metadata": {},
   "outputs": [],
   "source": [
    "clust.to_csv('clust.csv', index=False)"
   ]
  },
  {
   "cell_type": "code",
   "execution_count": null,
   "id": "3ac3c541",
   "metadata": {},
   "outputs": [],
   "source": [
    "cluster_labels = kmeans.labels_"
   ]
  },
  {
   "cell_type": "code",
   "execution_count": null,
   "id": "4e8db16e",
   "metadata": {},
   "outputs": [],
   "source": [
    "combined_data['cluster'] = cluster_labels"
   ]
  },
  {
   "cell_type": "code",
   "execution_count": null,
   "id": "2066eb0c",
   "metadata": {},
   "outputs": [],
   "source": [
    "combined_data"
   ]
  },
  {
   "cell_type": "code",
   "execution_count": null,
   "id": "c7d96578",
   "metadata": {},
   "outputs": [],
   "source": [
    "cluster_means = dfn.groupby('cluster').mean()"
   ]
  },
  {
   "cell_type": "code",
   "execution_count": null,
   "id": "56604608",
   "metadata": {},
   "outputs": [],
   "source": [
    "cluster_means"
   ]
  },
  {
   "cell_type": "code",
   "execution_count": null,
   "id": "93fcf53c",
   "metadata": {},
   "outputs": [],
   "source": [
    "dfn"
   ]
  },
  {
   "cell_type": "code",
   "execution_count": null,
   "id": "050bd6a2",
   "metadata": {},
   "outputs": [],
   "source": [
    "dfn.to_csv('dfn.csv',index=False)"
   ]
  }
 ],
 "metadata": {
  "kernelspec": {
   "display_name": "Python 3 (ipykernel)",
   "language": "python",
   "name": "python3"
  },
  "language_info": {
   "codemirror_mode": {
    "name": "ipython",
    "version": 3
   },
   "file_extension": ".py",
   "mimetype": "text/x-python",
   "name": "python",
   "nbconvert_exporter": "python",
   "pygments_lexer": "ipython3",
   "version": "3.10.9"
  }
 },
 "nbformat": 4,
 "nbformat_minor": 5
}
